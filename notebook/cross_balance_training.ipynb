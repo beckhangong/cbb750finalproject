{
 "cells": [
  {
   "cell_type": "code",
   "execution_count": 40,
   "metadata": {},
   "outputs": [],
   "source": [
    "import requests\n",
    "import sys\n",
    "import os\n",
    "import shutil\n",
    "import numpy as np\n",
    "import Bio\n",
    "import pandas as pd\n",
    "import json\n",
    "\n",
    "pd.set_option('display.max_colwidth', -1)"
   ]
  },
  {
   "cell_type": "code",
   "execution_count": 42,
   "metadata": {},
   "outputs": [
    {
     "name": "stdout",
     "output_type": "stream",
     "text": [
      "dead total: (2410, 2)\n",
      "no dead total: (18275, 2)\n",
      "(17581, 2)\n",
      "(3104, 2)\n"
     ]
    }
   ],
   "source": [
    "data_train = pd.read_csv(\"train_listfile.csv\", keep_default_na=False)\n",
    "data_test = pd.read_csv(\"test_listfile.csv\", keep_default_na=False)\n",
    "data_val = pd.read_csv(\"val_listfile.csv\", keep_default_na=False)\n",
    "\n",
    "cnt_train = data_train.count()\n",
    "cnt_test = data_test.count()\n",
    "cnt_val = data_val.count()\n",
    "\n",
    "cnt_total = cnt_train + cnt_test + cnt_val\n",
    "\n",
    "frames = [data_train, data_test, data_val]\n",
    "data_total = pd.concat(frames)\n",
    "#print (data_total.count())\n",
    "\n",
    "#separate the whole dataset into dataset with outcome dead and not dead\n",
    "data_dead = data_total.loc[data_total['y_true'] == 1]\n",
    "print (\"dead total: \" + str(data_dead.shape))\n",
    "data_no_dead = data_total.loc[data_total['y_true'] != 1]\n",
    "print (\"no dead total: \" + str(data_no_dead.shape))\n",
    "\n",
    "#sample from both dead and no_dead dataset to create training and test, then combine\n",
    "from sklearn.model_selection import train_test_split\n",
    "train_dead, test_dead = train_test_split(data_dead, test_size=0.15)\n",
    "train_no_dead, test_no_dead = train_test_split(data_no_dead, test_size=0.15)\n",
    "#print (train_dead.shape)\n",
    "#print (test_dead.shape)\n",
    "#print (train_no_dead.shape)\n",
    "#print (test_no_dead.shape)\n",
    "\n",
    "#after cross balancing, merge back into train and test dataset\n",
    "train_frames = [train_dead, train_no_dead]\n",
    "train = pd.concat(train_frames)\n",
    "test_frames = [test_dead, test_no_dead]\n",
    "test = pd.concat(test_frames)\n",
    "print (train.shape)\n",
    "print (test.shape)\n",
    "\n",
    "#export csv file \n",
    "\n",
    "\n",
    "#loop through train and test list to move files into train/ and test/ folder\n",
    "target_train_path = '/Users/Guannan/Yale/MimicIII/mimic3-benchmarks-master/data/in-hospital-mortality' + '/train'\n",
    "target_test_path = '/Users/Guannan/Yale/MimicIII/mimic3-benchmarks-master/data/in-hospital-mortality' + '/test'\n",
    "src_path = '/Users/Guannan/Yale/MimicIII/mimic3-benchmarks-master/data/in-hospital-mortality' + '/total'\n",
    "\n",
    "if not os.path.exists(target_train_path):\n",
    "        os.mkdir(target_train_path)\n",
    "        \n",
    "if not os.path.exists(target_test_path):\n",
    "        os.mkdir(target_test_path)\n",
    "\n",
    "for file_train in train['stay']:\n",
    "    src = os.path.join(src_path, file_train)\n",
    "    dest = os.path.join(target_train_path, file_train)\n",
    "    shutil.move(src, dest)\n",
    "\n",
    "train.to_csv(os.path.join(target_train_path, 'listfile.csv'), index=False)\n",
    "    \n",
    "for file_test in test['stay']:\n",
    "    src = os.path.join(src_path, file_test)\n",
    "    dest = os.path.join(target_test_path, file_test)\n",
    "    shutil.move(src, dest)\n",
    "\n",
    "test.to_csv(os.path.join(target_test_path, 'listfile.csv'), index=False)"
   ]
  },
  {
   "cell_type": "code",
   "execution_count": null,
   "metadata": {},
   "outputs": [],
   "source": []
  },
  {
   "cell_type": "code",
   "execution_count": null,
   "metadata": {},
   "outputs": [],
   "source": []
  },
  {
   "cell_type": "code",
   "execution_count": null,
   "metadata": {},
   "outputs": [],
   "source": []
  }
 ],
 "metadata": {
  "kernelspec": {
   "display_name": "Python 3",
   "language": "python",
   "name": "python3"
  },
  "language_info": {
   "codemirror_mode": {
    "name": "ipython",
    "version": 3
   },
   "file_extension": ".py",
   "mimetype": "text/x-python",
   "name": "python",
   "nbconvert_exporter": "python",
   "pygments_lexer": "ipython3",
   "version": "3.7.3"
  }
 },
 "nbformat": 4,
 "nbformat_minor": 2
}
